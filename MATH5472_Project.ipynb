{
 "cells": [
  {
   "cell_type": "code",
   "execution_count": 90,
   "id": "39e7c677-b1e9-4234-a01a-276ae9568076",
   "metadata": {},
   "outputs": [],
   "source": [
    "import scvi\n",
    "import anndata\n",
    "import numpy as np\n",
    "import time\n",
    "from sklearn.model_selection import train_test_split\n",
    "from ZIFA import ZIFA  # Importing ZIFA\n",
    "from scvi.model import SCVI  # Importing SCVI\n",
    "import matplotlib.pyplot as plt  # Importing matplotlib for plotting"
   ]
  },
  {
   "cell_type": "code",
   "execution_count": 50,
   "id": "6cd4a77c-09c4-48f5-a257-e186737df116",
   "metadata": {},
   "outputs": [
    {
     "name": "stdout",
     "output_type": "stream",
     "text": [
      "\u001b[34mINFO    \u001b[0m Downloading file at data/brain_large.h5                                                                   \n"
     ]
    },
    {
     "data": {
      "application/vnd.jupyter.widget-view+json": {
       "model_id": "7c08f53c59d9465e9c414dbccfd8a4f8",
       "version_major": 2,
       "version_minor": 0
      },
      "text/plain": [
       "Downloading...:   0%|          | 0/4216019.0 [00:00<?, ?it/s]"
      ]
     },
     "metadata": {},
     "output_type": "display_data"
    },
    {
     "name": "stdout",
     "output_type": "stream",
     "text": [
      "\u001b[34mINFO    \u001b[0m Preprocessing Brain Large data                                                                            \n",
      "data/brain_large.h5\n",
      "\u001b[34mINFO    \u001b[0m loaded \u001b[1;36m100000\u001b[0m \u001b[35m/\u001b[0m \u001b[1;36m1306127\u001b[0m cells                                                                             \n",
      "\u001b[34mINFO    \u001b[0m loaded \u001b[1;36m200000\u001b[0m \u001b[35m/\u001b[0m \u001b[1;36m1306127\u001b[0m cells                                                                             \n",
      "\u001b[34mINFO    \u001b[0m loaded \u001b[1;36m300000\u001b[0m \u001b[35m/\u001b[0m \u001b[1;36m1306127\u001b[0m cells                                                                             \n",
      "\u001b[34mINFO    \u001b[0m loaded \u001b[1;36m400000\u001b[0m \u001b[35m/\u001b[0m \u001b[1;36m1306127\u001b[0m cells                                                                             \n",
      "\u001b[34mINFO    \u001b[0m loaded \u001b[1;36m500000\u001b[0m \u001b[35m/\u001b[0m \u001b[1;36m1306127\u001b[0m cells                                                                             \n",
      "\u001b[34mINFO    \u001b[0m loaded \u001b[1;36m600000\u001b[0m \u001b[35m/\u001b[0m \u001b[1;36m1306127\u001b[0m cells                                                                             \n",
      "\u001b[34mINFO    \u001b[0m loaded \u001b[1;36m700000\u001b[0m \u001b[35m/\u001b[0m \u001b[1;36m1306127\u001b[0m cells                                                                             \n",
      "\u001b[34mINFO    \u001b[0m loaded \u001b[1;36m800000\u001b[0m \u001b[35m/\u001b[0m \u001b[1;36m1306127\u001b[0m cells                                                                             \n",
      "\u001b[34mINFO    \u001b[0m loaded \u001b[1;36m900000\u001b[0m \u001b[35m/\u001b[0m \u001b[1;36m1306127\u001b[0m cells                                                                             \n",
      "\u001b[34mINFO    \u001b[0m loaded \u001b[1;36m1000000\u001b[0m \u001b[35m/\u001b[0m \u001b[1;36m1306127\u001b[0m cells                                                                            \n",
      "\u001b[34mINFO    \u001b[0m loaded \u001b[1;36m1100000\u001b[0m \u001b[35m/\u001b[0m \u001b[1;36m1306127\u001b[0m cells                                                                            \n",
      "\u001b[34mINFO    \u001b[0m loaded \u001b[1;36m1200000\u001b[0m \u001b[35m/\u001b[0m \u001b[1;36m1306127\u001b[0m cells                                                                            \n",
      "\u001b[34mINFO    \u001b[0m loaded \u001b[1;36m1300000\u001b[0m \u001b[35m/\u001b[0m \u001b[1;36m1306127\u001b[0m cells                                                                            \n",
      "\u001b[34mINFO    \u001b[0m loaded \u001b[1;36m1306127\u001b[0m \u001b[35m/\u001b[0m \u001b[1;36m1306127\u001b[0m cells                                                                            \n",
      "\u001b[34mINFO    \u001b[0m \u001b[1;36m1306127\u001b[0m cells subsampled                                                                                  \n",
      "\u001b[34mINFO    \u001b[0m \u001b[1;36m720\u001b[0m genes subsampled                                                                                      \n",
      "X shape: (1306127, 720)\n",
      "obs shape: (1306127, 2)\n",
      "var shape: (720, 0)\n",
      "\n",
      "Comparing for subset size: 100\n",
      "Running ZIFA\n"
     ]
    },
    {
     "ename": "Exception",
     "evalue": "Your Y matrix has columns which are entirely zero; please filter out these columns and rerun the algorithm.",
     "output_type": "error",
     "traceback": [
      "\u001b[1;31m---------------------------------------------------------------------------\u001b[0m",
      "\u001b[1;31mException\u001b[0m                                 Traceback (most recent call last)",
      "Cell \u001b[1;32mIn[50], line 52\u001b[0m\n\u001b[0;32m     50\u001b[0m \u001b[38;5;28mprint\u001b[39m(\u001b[38;5;124m\"\u001b[39m\u001b[38;5;124mRunning ZIFA\u001b[39m\u001b[38;5;124m\"\u001b[39m)\n\u001b[0;32m     51\u001b[0m start_time \u001b[38;5;241m=\u001b[39m time\u001b[38;5;241m.\u001b[39mtime()\n\u001b[1;32m---> 52\u001b[0m zifa_result \u001b[38;5;241m=\u001b[39m \u001b[43mZIFA\u001b[49m\u001b[38;5;241;43m.\u001b[39;49m\u001b[43mfitModel\u001b[49m\u001b[43m(\u001b[49m\u001b[43mX_train\u001b[49m\u001b[43m,\u001b[49m\u001b[43m \u001b[49m\u001b[38;5;241;43m10\u001b[39;49m\u001b[43m)\u001b[49m  \u001b[38;5;66;03m# 10 is the number of dimensions to reduce to\u001b[39;00m\n\u001b[0;32m     53\u001b[0m zifa_runtime \u001b[38;5;241m=\u001b[39m time\u001b[38;5;241m.\u001b[39mtime() \u001b[38;5;241m-\u001b[39m start_time\n\u001b[0;32m     54\u001b[0m zifa_runtimes\u001b[38;5;241m.\u001b[39mappend(zifa_runtime)\n",
      "File \u001b[1;32mD:\\pythonProject\\.venv\\Lib\\site-packages\\ZIFA\\ZIFA.py:430\u001b[0m, in \u001b[0;36mfitModel\u001b[1;34m(Y, K, singleSigma)\u001b[0m\n\u001b[0;32m    427\u001b[0m \u001b[38;5;28;01mif\u001b[39;00m D \u001b[38;5;241m>\u001b[39m \u001b[38;5;241m2000\u001b[39m:\n\u001b[0;32m    428\u001b[0m \t\u001b[38;5;28mprint\u001b[39m(\u001b[38;5;124m'\u001b[39m\u001b[38;5;124mWarning: this dataset has a large number of genes. If ZIFA takes too long to run, try using block_ZIFA.py instead\u001b[39m\u001b[38;5;124m'\u001b[39m)\n\u001b[1;32m--> 430\u001b[0m \u001b[43mtestInputData\u001b[49m\u001b[43m(\u001b[49m\u001b[43mY\u001b[49m\u001b[43m)\u001b[49m\n\u001b[0;32m    432\u001b[0m \u001b[38;5;28mprint\u001b[39m(\u001b[38;5;124m'\u001b[39m\u001b[38;5;124mRunning zero-inflated factor analysis with N = \u001b[39m\u001b[38;5;132;01m%i\u001b[39;00m\u001b[38;5;124m, D = \u001b[39m\u001b[38;5;132;01m%i\u001b[39;00m\u001b[38;5;124m, K = \u001b[39m\u001b[38;5;132;01m%i\u001b[39;00m\u001b[38;5;124m'\u001b[39m \u001b[38;5;241m%\u001b[39m (N, D, K))\n\u001b[0;32m    434\u001b[0m \u001b[38;5;66;03m# Initialize the parameters\u001b[39;00m\n",
      "File \u001b[1;32mD:\\pythonProject\\.venv\\Lib\\site-packages\\ZIFA\\ZIFA.py:410\u001b[0m, in \u001b[0;36mtestInputData\u001b[1;34m(Y)\u001b[0m\n\u001b[0;32m    408\u001b[0m column_is_all_zero \u001b[38;5;241m=\u001b[39m zero_fracs \u001b[38;5;241m==\u001b[39m \u001b[38;5;241m1.\u001b[39m\n\u001b[0;32m    409\u001b[0m \u001b[38;5;28;01mif\u001b[39;00m column_is_all_zero\u001b[38;5;241m.\u001b[39msum() \u001b[38;5;241m>\u001b[39m \u001b[38;5;241m0\u001b[39m:\n\u001b[1;32m--> 410\u001b[0m \t\u001b[38;5;28;01mraise\u001b[39;00m \u001b[38;5;167;01mException\u001b[39;00m(\u001b[38;5;124m\"\u001b[39m\u001b[38;5;124mYour Y matrix has columns which are entirely zero; please filter out these columns and rerun the algorithm.\u001b[39m\u001b[38;5;124m\"\u001b[39m)\n",
      "\u001b[1;31mException\u001b[0m: Your Y matrix has columns which are entirely zero; please filter out these columns and rerun the algorithm."
     ]
    }
   ],
   "source": [
    "# Load the brain-large dataset using scvi-tools\n",
    "adata = scvi.data.brainlarge_dataset()"
   ]
  },
  {
   "cell_type": "code",
   "execution_count": 55,
   "id": "935ed356-062a-48b1-a306-643680aabe7d",
   "metadata": {},
   "outputs": [
    {
     "name": "stdout",
     "output_type": "stream",
     "text": [
      "X shape: (1306127, 720)\n",
      "obs shape: (1306127, 2)\n",
      "var shape: (720, 0)\n",
      "Filtered data subset shape: (1000, 720)\n",
      "\n",
      "Comparing for subset size: 100\n",
      "Running ZIFA\n",
      "Running zero-inflated factor analysis with N = 900, D = 720, K = 10\n",
      "Param change below threshold 1.000e-02 after 8 iterations\n"
     ]
    },
    {
     "name": "stderr",
     "output_type": "stream",
     "text": [
      "D:\\pythonProject\\.venv\\Lib\\site-packages\\scvi\\data\\fields\\_base_field.py:63: UserWarning: adata.X does not contain unnormalized count data. Are you sure this is what you want?\n",
      "  self.validate_field(adata)\n",
      "GPU available: False, used: False\n",
      "TPU available: False, using: 0 TPU cores\n",
      "HPU available: False, using: 0 HPUs\n"
     ]
    },
    {
     "name": "stdout",
     "output_type": "stream",
     "text": [
      "ZIFA runtime: 318.2923629283905\n",
      "Running SCVI\n"
     ]
    },
    {
     "name": "stderr",
     "output_type": "stream",
     "text": [
      "D:\\pythonProject\\.venv\\Lib\\site-packages\\lightning\\pytorch\\trainer\\connectors\\data_connector.py:424: The 'train_dataloader' does not have many workers which may be a bottleneck. Consider increasing the value of the `num_workers` argument` to `num_workers=15` in the `DataLoader` to improve performance.\n",
      "D:\\pythonProject\\.venv\\Lib\\site-packages\\lightning\\pytorch\\loops\\fit_loop.py:298: The number of training batches (8) is smaller than the logging interval Trainer(log_every_n_steps=10). Set a lower value for log_every_n_steps if you want to see logs for the training epoch.\n"
     ]
    },
    {
     "data": {
      "application/vnd.jupyter.widget-view+json": {
       "model_id": "51f1bf0272234deb94a4e8829af2f78f",
       "version_major": 2,
       "version_minor": 0
      },
      "text/plain": [
       "Training:   0%|          | 0/400 [00:00<?, ?it/s]"
      ]
     },
     "metadata": {},
     "output_type": "display_data"
    },
    {
     "name": "stderr",
     "output_type": "stream",
     "text": [
      "D:\\pythonProject\\.venv\\Lib\\site-packages\\scvi\\module\\_vae.py:569: UserWarning: The value argument must be within the support of the distribution\n",
      "  reconst_loss = -generative_outputs[MODULE_KEYS.PX_KEY].log_prob(x).sum(-1)\n",
      "D:\\pythonProject\\.venv\\Lib\\site-packages\\scvi\\module\\_vae.py:569: UserWarning: The value argument must be within the support of the distribution\n",
      "  reconst_loss = -generative_outputs[MODULE_KEYS.PX_KEY].log_prob(x).sum(-1)\n",
      "D:\\pythonProject\\.venv\\Lib\\site-packages\\scvi\\module\\_vae.py:569: UserWarning: The value argument must be within the support of the distribution\n",
      "  reconst_loss = -generative_outputs[MODULE_KEYS.PX_KEY].log_prob(x).sum(-1)\n",
      "`Trainer.fit` stopped: `max_epochs=400` reached.\n"
     ]
    },
    {
     "name": "stdout",
     "output_type": "stream",
     "text": [
      "SCVI runtime: 89.09319806098938\n",
      "\n",
      "Comparing for subset size: 500\n",
      "Running ZIFA\n",
      "Running zero-inflated factor analysis with N = 900, D = 720, K = 10\n",
      "Param change below threshold 1.000e-02 after 8 iterations\n"
     ]
    },
    {
     "name": "stderr",
     "output_type": "stream",
     "text": [
      "D:\\pythonProject\\.venv\\Lib\\site-packages\\scvi\\data\\fields\\_base_field.py:63: UserWarning: adata.X does not contain unnormalized count data. Are you sure this is what you want?\n",
      "  self.validate_field(adata)\n",
      "GPU available: False, used: False\n",
      "TPU available: False, using: 0 TPU cores\n",
      "HPU available: False, using: 0 HPUs\n"
     ]
    },
    {
     "name": "stdout",
     "output_type": "stream",
     "text": [
      "ZIFA runtime: 311.2358453273773\n",
      "Running SCVI\n"
     ]
    },
    {
     "name": "stderr",
     "output_type": "stream",
     "text": [
      "D:\\pythonProject\\.venv\\Lib\\site-packages\\lightning\\pytorch\\trainer\\connectors\\data_connector.py:424: The 'train_dataloader' does not have many workers which may be a bottleneck. Consider increasing the value of the `num_workers` argument` to `num_workers=15` in the `DataLoader` to improve performance.\n",
      "D:\\pythonProject\\.venv\\Lib\\site-packages\\lightning\\pytorch\\loops\\fit_loop.py:298: The number of training batches (8) is smaller than the logging interval Trainer(log_every_n_steps=10). Set a lower value for log_every_n_steps if you want to see logs for the training epoch.\n"
     ]
    },
    {
     "data": {
      "application/vnd.jupyter.widget-view+json": {
       "model_id": "e4160eb7d6f142ef9c49b0bfe51dd393",
       "version_major": 2,
       "version_minor": 0
      },
      "text/plain": [
       "Training:   0%|          | 0/400 [00:00<?, ?it/s]"
      ]
     },
     "metadata": {},
     "output_type": "display_data"
    },
    {
     "name": "stderr",
     "output_type": "stream",
     "text": [
      "D:\\pythonProject\\.venv\\Lib\\site-packages\\scvi\\module\\_vae.py:569: UserWarning: The value argument must be within the support of the distribution\n",
      "  reconst_loss = -generative_outputs[MODULE_KEYS.PX_KEY].log_prob(x).sum(-1)\n",
      "D:\\pythonProject\\.venv\\Lib\\site-packages\\scvi\\module\\_vae.py:569: UserWarning: The value argument must be within the support of the distribution\n",
      "  reconst_loss = -generative_outputs[MODULE_KEYS.PX_KEY].log_prob(x).sum(-1)\n",
      "D:\\pythonProject\\.venv\\Lib\\site-packages\\scvi\\module\\_vae.py:569: UserWarning: The value argument must be within the support of the distribution\n",
      "  reconst_loss = -generative_outputs[MODULE_KEYS.PX_KEY].log_prob(x).sum(-1)\n",
      "`Trainer.fit` stopped: `max_epochs=400` reached.\n"
     ]
    },
    {
     "name": "stdout",
     "output_type": "stream",
     "text": [
      "SCVI runtime: 86.23635792732239\n",
      "\n",
      "ZIFA runtimes: [318.2923629283905, 311.2358453273773]\n",
      "SCVI runtimes: [89.09319806098938, 86.23635792732239]\n"
     ]
    }
   ],
   "source": [
    "# Convert the AnnData object to dense array (if not already)\n",
    "X = adata.X.toarray() if not isinstance(adata.X, np.ndarray) else adata.X\n",
    "obs_df = adata.obs\n",
    "var_df = adata.var\n",
    "\n",
    "# Ensure the index of obs matches the number of cells in X\n",
    "obs_df.index = [f'cell_{i}' for i in range(obs_df.shape[0])]\n",
    "var_df.index = [f'gene_{i}' for i in range(var_df.shape[0])]\n",
    "\n",
    "print(\"X shape:\", X.shape)\n",
    "print(\"obs shape:\", obs_df.shape)\n",
    "print(\"var shape:\", var_df.shape)\n",
    "\n",
    "# Log-transform the data\n",
    "X = np.log1p(X)\n",
    "\n",
    "# Sample 3000 data points\n",
    "sample_size = 1000\n",
    "data_subset = X[:sample_size]\n",
    "\n",
    "# Filter out columns (genes) that are entirely zero\n",
    "non_zero_columns = np.any(data_subset != 0, axis=0)\n",
    "filtered_data_subset = data_subset[:, non_zero_columns]\n",
    "\n",
    "# Check the shape after filtering\n",
    "print(\"Filtered data subset shape:\", filtered_data_subset.shape)\n",
    "\n",
    "# Select the corresponding subset of obs\n",
    "obs_subset = obs_df.iloc[:sample_size]  # Ensure this matches the size of data_subset\n",
    "\n",
    "# Define the sizes for comparison\n",
    "sizes = [100, 500]\n",
    "zifa_runtimes = []\n",
    "scvi_runtimes = []\n",
    "\n",
    "for size in sizes:\n",
    "    print(f\"\\nComparing for subset size: {size}\")\n",
    "\n",
    "    # Split the filtered data into training and testing sets\n",
    "    X_train, X_test = train_test_split(filtered_data_subset, test_size=0.1, random_state=0)\n",
    "\n",
    "    # Create AnnData object for ZIFA\n",
    "    adata_zifa = anndata.AnnData(X_train, obs=obs_subset.iloc[:len(X_train)], var=var_df[non_zero_columns])\n",
    "\n",
    "    # Check if any columns are still entirely zero\n",
    "    if np.any(np.all(X_train == 0, axis=0)):\n",
    "        print(\"Warning: Some columns in X_train are still entirely zero.\")\n",
    "\n",
    "    # Initialize and run ZIFA\n",
    "    print(\"Running ZIFA\")\n",
    "    start_time = time.time()\n",
    "    zifa_result = ZIFA.fitModel(X_train, 10)  # 10 is the number of dimensions to reduce to\n",
    "    zifa_runtime = time.time() - start_time\n",
    "    zifa_runtimes.append(zifa_runtime)\n",
    "    print(\"ZIFA runtime:\", zifa_runtime)\n",
    "\n",
    "    # Create AnnData object for SCVI\n",
    "    adata_scvi = anndata.AnnData(filtered_data_subset, obs=obs_subset, var=var_df[non_zero_columns])\n",
    "\n",
    "    # Setup AnnData for SCVI\n",
    "    SCVI.setup_anndata(adata_scvi)  # Set up AnnData for SCVI\n",
    "\n",
    "    # Initialize and run SCVI\n",
    "    print(\"Running SCVI\")\n",
    "    model = SCVI(adata_scvi)\n",
    "    start_time = time.time()\n",
    "    model.train()  # Train the model\n",
    "    scvi_runtime = time.time() - start_time\n",
    "    scvi_runtimes.append(scvi_runtime)\n",
    "    print(\"SCVI runtime:\", scvi_runtime)\n",
    "\n",
    "# Summary of runtimes\n",
    "print(\"\\nZIFA runtimes:\", zifa_runtimes)\n",
    "print(\"SCVI runtimes:\", scvi_runtimes)"
   ]
  },
  {
   "cell_type": "code",
   "execution_count": 56,
   "id": "b9981a37-4fb5-447e-b460-183e218d1597",
   "metadata": {},
   "outputs": [
    {
     "data": {
      "image/png": "[encoded data removed]",
      "text/plain": [
       "<Figure size 1000x600 with 1 Axes>"
      ]
     },
     "metadata": {},
     "output_type": "display_data"
    }
   ],
   "source": [
    "# Plotting the runtime differences\n",
    "plt.figure(figsize=(10, 6))\n",
    "plt.plot(sizes, zifa_runtimes, marker='o', label='ZIFA')\n",
    "plt.plot(sizes, scvi_runtimes, marker='o', label='SCVI')\n",
    "plt.xlabel('Subset Size')\n",
    "plt.ylabel('Runtime (seconds)')\n",
    "plt.title('Runtime Comparison of ZIFA and SCVI')\n",
    "plt.legend()\n",
    "plt.grid(True)\n",
    "plt.show()"
   ]
  },
  {
   "cell_type": "code",
   "execution_count": 93,
   "id": "bea6eaa4-8d71-4972-a5bf-4c85f3b5c4f2",
   "metadata": {},
   "outputs": [
    {
     "name": "stdout",
     "output_type": "stream",
     "text": [
      "\u001b[34mINFO    \u001b[0m Downloading file at data/gene_info_pbmc.csv                                                               \n"
     ]
    },
    {
     "data": {
      "application/vnd.jupyter.widget-view+json": {
       "model_id": "7cf27247fcc24e5f84bc0ad5e44f6efc",
       "version_major": 2,
       "version_minor": 0
      },
      "text/plain": [
       "Downloading...:   0%|          | 0/908.0 [00:00<?, ?it/s]"
      ]
     },
     "metadata": {},
     "output_type": "display_data"
    },
    {
     "name": "stdout",
     "output_type": "stream",
     "text": [
      "\u001b[34mINFO    \u001b[0m Downloading file at data/pbmc_metadata.pickle                                                             \n"
     ]
    },
    {
     "data": {
      "application/vnd.jupyter.widget-view+json": {
       "model_id": "29240e5ec96a4edd9b7d29cd390d12bc",
       "version_major": 2,
       "version_minor": 0
      },
      "text/plain": [
       "Downloading...:   0%|          | 0/4000.0 [00:00<?, ?it/s]"
      ]
     },
     "metadata": {},
     "output_type": "display_data"
    },
    {
     "name": "stdout",
     "output_type": "stream",
     "text": [
      "\u001b[34mINFO    \u001b[0m Downloading file at data/pbmc8k\\filtered_gene_bc_matrices.tar.gz                                          \n"
     ]
    },
    {
     "data": {
      "application/vnd.jupyter.widget-view+json": {
       "model_id": "32940a7b71d04c2789988da3d3a506f3",
       "version_major": 2,
       "version_minor": 0
      },
      "text/plain": [
       "Downloading...:   0%|          | 0/37558.0 [00:00<?, ?it/s]"
      ]
     },
     "metadata": {},
     "output_type": "display_data"
    },
    {
     "name": "stdout",
     "output_type": "stream",
     "text": [
      "\u001b[34mINFO    \u001b[0m Extracting tar file                                                                                       \n",
      "\u001b[34mINFO    \u001b[0m Removing extracted data at data/pbmc8k/filtered_gene_bc_matrices\\GRCh38                                   \n",
      "\u001b[34mINFO    \u001b[0m Downloading file at data/pbmc4k\\filtered_gene_bc_matrices.tar.gz                                          \n"
     ]
    },
    {
     "data": {
      "application/vnd.jupyter.widget-view+json": {
       "model_id": "99301a4d641c4d82bd7edaaa2f2464e2",
       "version_major": 2,
       "version_minor": 0
      },
      "text/plain": [
       "Downloading...:   0%|          | 0/18424.0 [00:00<?, ?it/s]"
      ]
     },
     "metadata": {},
     "output_type": "display_data"
    },
    {
     "name": "stdout",
     "output_type": "stream",
     "text": [
      "\u001b[34mINFO    \u001b[0m Extracting tar file                                                                                       \n",
      "\u001b[34mINFO    \u001b[0m Removing extracted data at data/pbmc4k/filtered_gene_bc_matrices\\GRCh38                                   \n"
     ]
    },
    {
     "name": "stderr",
     "output_type": "stream",
     "text": [
      "D:\\pythonProject\\.venv\\Lib\\site-packages\\scvi\\data\\_built_in_data\\_pbmc.py:75: FutureWarning: Use anndata.concat instead of AnnData.concatenate, AnnData.concatenate is deprecated and will be removed in the future. See the tutorial for concat at: https://anndata.readthedocs.io/en/latest/concatenation.html\n",
      "  adata = pbmc8k.concatenate(pbmc4k)\n"
     ]
    }
   ],
   "source": [
    "bdata = scvi.data.pbmc_dataset()"
   ]
  },
  {
   "cell_type": "markdown",
   "id": "9afca145-cf7c-4bc7-94f6-ba7330f686b4",
   "metadata": {},
   "source": [
    "## PBMC Data"
   ]
  },
  {
   "cell_type": "code",
   "execution_count": null,
   "id": "0a197ddb-ca23-4b78-993c-117c6a111546",
   "metadata": {},
   "outputs": [],
   "source": [
    "# expression data\n",
    "data_path = \"/home/ubuntu/single-cell-scVI/data/10xPBMCs/\"\n",
    "expression_train = np.load(data_path + \"de/data_train.npy\")\n",
    "expression_test = np.load(data_path + \"de/data_test.npy\")\n",
    "\n",
    "# qc metrics\n",
    "r_train = np.load(data_path + \"design_train.npy\")\n",
    "r_test = np.load(data_path + \"design_test.npy\")\n",
    "qc_train = np.load(data_path + \"qc_train.npy\")\n",
    "qc_test = np.load(data_path + \"qc_test.npy\")\n",
    "\n",
    "# labels\n",
    "c_train = np.loadtxt(data_path + \"label_train\")\n",
    "c_test = np.loadtxt(data_path + \"label_test\")\n",
    "\n",
    "# batch info\n",
    "b_train = np.loadtxt(data_path + \"b_train\")\n",
    "b_test = np.loadtxt(data_path + \"b_test\")\n",
    "\n",
    "# corrupted data\n",
    "X_zero, i, j, ix = \\\n",
    "        np.load(data_path + \"imputation/X_zero.npy\"), np.load(data_path + \"imputation/i.npy\"),\\\n",
    "        np.load(data_path + \"imputation/j.npy\"), np.load(data_path + \"imputation/ix.npy\")\n",
    "        \n",
    "#gene info\n",
    "micro_array_result = pd.read_csv(data_path+\"de/gene_info.csv\")\n",
    "gene_names = micro_array_result[\"ENSG\"]\n",
    "gene_symbols = micro_array_result[\"GS\"]\n",
    "cd_p_value = micro_array_result[\"CD_P.Value\"]\n",
    "bdc_p_value = micro_array_result[\"BDC_P.Value\"]\n",
    "bdc2_p_value = micro_array_result[\"BDC2_P.Value\"]"
   ]
  },
  {
   "cell_type": "code",
   "execution_count": null,
   "id": "4b685ea0-629d-4d77-a020-e8cd6d51c2bd",
   "metadata": {},
   "outputs": [],
   "source": [
    "# Reset the default graph\n",
    "tf.compat.v1.reset_default_graph()\n",
    "\n",
    "# Placeholders\n",
    "expression = tf.compat.v1.placeholder(tf.float32, (None, expression_train.shape[1]), name='x')\n",
    "kl_scalar = tf.compat.v1.placeholder(tf.float32, (), name='kl_scalar')\n",
    "optimizer = tf.compat.v1.train.AdamOptimizer(learning_rate=learning_rate, epsilon=epsilon)\n",
    "training_phase = tf.compat.v1.placeholder(tf.bool, (), name='training_phase')\n",
    "\n",
    "# Getting priors\n",
    "log_library_size = np.log(np.sum(expression_train, axis=1))\n",
    "mean, var = np.mean(log_library_size), np.var(log_library_size)\n",
    "\n",
    "# Model\n",
    "model = scVIModel(expression=expression, kl_scale=kl_scalar, \n",
    "                  optimize_algo=optimizer, phase=training_phase, \n",
    "                  library_size_mean=mean, library_size_var=var, n_latent=10)\n",
    "\n",
    "# Session creation\n",
    "sess = tf.compat.v1.Session()\n",
    "print(\"Running scVI on 3346 genes\")\n",
    "print(\"scVI will run without batch correction\")\n",
    "print(\"Will work on mode numeric for incorporating library size\")\n",
    "print(\"Will work on mode gene for modeling inverse dispersion param\")\n",
    "print(\"Will apply zero inflation\")\n",
    "print(\"1 hidden layers at 128 each for a final 10 latent space\")\n",
    "\n",
    "# Start a new graph and fit the training set\n",
    "sess.run(tf.compat.v1.global_variables_initializer())\n",
    "saver = tf.compat.v1.train.Saver()\n",
    "result = train_model(model, (expression_train, expression_test), sess, 125)\n",
    "\n",
    "# Save the model\n",
    "# save_path = saver.save(sess, \"/tmp/10xPBMCs_DE_125_ep.ckpt\")\n",
    "# print(\"Model saved in path: %s\" % save_path)\n",
    "plot_training_info(result)\n",
    "# saver.restore(sess, \"/tmp/10xPBMCs_DE_125_ep.ckpt\")\n",
    "\n",
    "# Evaluation methods\n",
    "def sample_posterior(model, X, M_z):\n",
    "    results = {}\n",
    "    ind = np.arange(X.shape[0])\n",
    "\n",
    "    # Repeat the data for sampling\n",
    "    X_m = np.repeat(X, M_z, axis=0)\n",
    "    ind = np.repeat(ind, M_z, axis=0)\n",
    "        \n",
    "    # NN part\n",
    "    dic_x = {expression: X_m, training_phase: False, kl_scalar: 1.0}\n",
    "    z_m, l_m = sess.run((model.z, model.library), feed_dict=dic_x)\n",
    "    dic_z = {model.z: z_m, model.library: l_m, training_phase: False, kl_scalar: 1.0}\n",
    "    rate, dropout, scale = sess.run((model.px_rate, model.px_dropout, model.px_scale), feed_dict=dic_z)\n",
    "    dispersion = np.tile(sess.run((tf.exp(model.px_r))), (rate.shape[0], 1))\n",
    "    \n",
    "    results[\"library\"] = l_m\n",
    "    results[\"mean\"] = rate\n",
    "    results[\"latent\"] = z_m\n",
    "    results[\"dispersion\"] = dispersion\n",
    "    results[\"dropout\"] = dropout\n",
    "    results[\"sample_rate\"] = scale\n",
    "    results[\"index\"] = ind\n",
    "    return results\n",
    "\n",
    "def get_sampling(model, subset_a, subset_b, M_z):\n",
    "    res_a = sample_posterior(model, expression_train[subset_a], M_z)\n",
    "    res_b = sample_posterior(model, expression_train[subset_b], M_z)\n",
    "    return res_a, res_b\n",
    "\n",
    "def get_statistics(res_a, res_b, M_p=10000, permutation=False):\n",
    "    samples = np.vstack((res_a[\"sample_rate\"], res_b[\"sample_rate\"]))\n",
    "    \n",
    "    list_1 = list(np.arange(res_a[\"sample_rate\"].shape[0]))\n",
    "    list_2 = list(res_a[\"sample_rate\"].shape[0] + np.arange(res_b[\"sample_rate\"].shape[0]))\n",
    "    if not permutation:\n",
    "        u, v = np.random.choice(list_1, size=M_p), np.random.choice(list_2, size=M_p)\n",
    "    else:\n",
    "        u, v = np.random.choice(list_1 + list_2, size=M_p), np.random.choice(list_1 + list_2, size=M_p)\n",
    "    \n",
    "    first_set = samples[u]\n",
    "    second_set = samples[v]\n",
    "    \n",
    "    res = np.mean(first_set >= second_set, 0)\n",
    "    res = np.log(res) - np.log(1 - res)\n",
    "    return res\n",
    "\n",
    "# Parameters\n",
    "interest = \"BDC\"\n",
    "couple_celltypes = (4, 0)\n",
    "rank_auc = 800\n",
    "p_prior = 0.25\n",
    "\n",
    "# Getting p_values\n",
    "p_value = micro_array_result[interest + \"_adj.P.Val\"]\n",
    "signed_p_value = -np.log10(p_value) * np.sign(micro_array_result[interest + \"_logFC\"])\n",
    "\n",
    "# Setting up parameters\n",
    "A, B, M_z = 100, 100, 200\n",
    "set_a = np.where(c_train == couple_celltypes[0])[0]\n",
    "set_b = np.where(c_train == couple_celltypes[1])[0]\n",
    "\n",
    "# Subsampling cells and computing statistics\n",
    "subset_a = np.random.choice(set_a, A)\n",
    "subset_b = np.random.choice(set_b, B)\n",
    "res_a, res_b = get_sampling(model, subset_a, subset_b, M_z)\n",
    "st = get_statistics(res_a, res_b, M_p=40000)\n",
    "\n",
    "plt.figure(figsize=(5, 5))\n",
    "plt.scatter(st, signed_p_value)\n",
    "plt.axvline(x=3, c=\"r\")\n",
    "plt.axvline(x=-3, c=\"r\")\n",
    "plt.axhline(y=np.log10(0.05), c=\"r\")\n",
    "plt.axhline(y=-np.log10(0.05), c=\"r\")\n",
    "plt.xlabel(\"Bayes Factor scVI\")\n",
    "plt.ylabel(\"Signed log corrected p_value micro-array\")\n",
    "plt.tight_layout()\n",
    "plt.savefig(interest + \"_Bayes_factor_vs_micro_array.pdf\", transparency=True)\n",
    "\n",
    "print(interest)\n",
    "print(\"Detected \", np.sum(2 * np.abs(st) >= 6), \" genes with scVI\")\n",
    "print(\"Detected \", np.sum(p_value <= 0.05), \" genes with microarray\")"
   ]
  },
  {
   "cell_type": "markdown",
   "id": "2eead30f-e67e-420b-ad0b-704b6b0c5c8c",
   "metadata": {},
   "source": [
    "## Bipolar Data"
   ]
  },
  {
   "cell_type": "code",
   "execution_count": null,
   "id": "34738234-6d28-472a-bc5a-220d90c6f49c",
   "metadata": {},
   "outputs": [],
   "source": [
    "#expression data\n",
    "data_path = \"/home/ubuntu/single-cell-scVI/data/bipolar/\"\n",
    "expression_train = scipy.sparse.load_npz(data_path + \"data_train.npz\").A\n",
    "expression_test = scipy.sparse.load_npz(data_path + \"data_test.npz\").A\n",
    "\n",
    "# batch info\n",
    "b_train = np.loadtxt(data_path + \"batch_train\") - 1\n",
    "b_test = np.loadtxt(data_path + \"batch_test\") - 1\n",
    "\n",
    "#cluster info\n",
    "c_train = np.loadtxt(data_path + \"c_train\")\n",
    "c_test = np.loadtxt(data_path + \"c_test\")\n",
    "\n",
    "# imputation dataset\n",
    "X_zero, i, j, ix = \\\n",
    "        scipy.sparse.load_npz(data_path + \"imputation/X_zero.npz\").A,\\\n",
    "        np.load(data_path + \"imputation/i.npy\"), \\\n",
    "        np.load(data_path + \"imputation/j.npy\"), \\\n",
    "        np.load(data_path + \"imputation/ix.npy\")"
   ]
  },
  {
   "cell_type": "code",
   "execution_count": null,
   "id": "4d479851-ecae-45a3-b4c8-63acb2c20dcb",
   "metadata": {},
   "outputs": [],
   "source": [
    "# Reset the default graph\n",
    "tf.compat.v1.reset_default_graph()\n",
    "\n",
    "# Placeholders\n",
    "expression = tf.compat.v1.placeholder(tf.float32, (None, expression_train.shape[1]), name='x')\n",
    "batch_ind = tf.compat.v1.placeholder(tf.int32, [None], name='b_ind')\n",
    "kl_scalar = tf.compat.v1.placeholder(tf.float32, (), name='kl_scalar')\n",
    "optimizer = tf.compat.v1.train.AdamOptimizer(learning_rate=learning_rate, epsilon=epsilon)\n",
    "training_phase = tf.compat.v1.placeholder(tf.bool, (), name='training_phase')\n",
    "mmd_scalar = tf.compat.v1.placeholder(tf.float32, [], name='l')\n",
    "\n",
    "# Getting priors\n",
    "log_library_size = np.log(np.sum(expression_train, axis=1))\n",
    "l_mean, l_var = np.mean(log_library_size), np.var(log_library_size)\n",
    "\n",
    "# Model\n",
    "model = scVIModel(expression=expression, batch_ind=batch_ind, num_batches=2, kl_scale=kl_scalar, \n",
    "                  apply_mmd=False, phase=training_phase, mmd_scale=mmd_scalar, \n",
    "                  optimize_algo=optimizer, library_size_mean=l_mean, library_size_var=l_var, \n",
    "                  dispersion=\"gene\")\n",
    "\n",
    "# Session creation\n",
    "sess = tf.compat.v1.Session()\n",
    "print(\"Running scVI on 13166 genes\")\n",
    "print(\"Got 2 batches in the data\")\n",
    "print(\"Will not apply a MMD penalty\")\n",
    "print(\"Will work on mode numeric for incorporating library size\")\n",
    "print(\"Will work on mode gene for modeling inverse dispersion param\")\n",
    "print(\"Will apply zero inflation\")\n",
    "print(\"1 hidden layers at 128 each for a final 10 latent space\")\n",
    "\n",
    "# Start a new graph and fit the training set\n",
    "sess.run(tf.compat.v1.global_variables_initializer())\n",
    "result = train_model(model, (expression_train, expression_test), sess, 120, batch=(b_train, b_test))\n",
    "plot_training_info(result)\n",
    "\n",
    "# Evaluation methods\n",
    "latent = eval_latent(model, expression_train, sess, batch=b_train)\n",
    "print(cluster_scores(latent, len(np.unique(c_train)), c_train))\n",
    "print(entropy_batch_mixing(latent, b_train))\n",
    "print(silhouette_score(latent, b_train))\n",
    "\n",
    "tsne = show_tSNE(latent, c_train, cmap=plt.get_cmap(\"tab20\", 15), return_tSNE=True)\n",
    "plt.show()\n",
    "show_tSNE(tsne, b_train, cmap=plt.get_cmap(\"brg\", 2))\n",
    "plt.show()\n",
    "\n",
    "# Imputation\n",
    "sess.run(tf.compat.v1.global_variables_initializer())\n",
    "res = train_model(model, (X_zero, expression_test), sess, 120, batch=(b_train, b_test))\n",
    "eval_imputed_data(model, (X_zero, i, j, ix), expression_train, sess, batch=b_train)"
   ]
  }
 ],
 "metadata": {
  "kernelspec": {
   "display_name": "Python 3 (ipykernel)",
   "language": "python",
   "name": "python3"
  },
  "language_info": {
   "codemirror_mode": {
    "name": "ipython",
    "version": 3
   },
   "file_extension": ".py",
   "mimetype": "text/x-python",
   "name": "python",
   "nbconvert_exporter": "python",
   "pygments_lexer": "ipython3",
   "version": "3.12.0"
  }
 },
 "nbformat": 4,
 "nbformat_minor": 5
}
